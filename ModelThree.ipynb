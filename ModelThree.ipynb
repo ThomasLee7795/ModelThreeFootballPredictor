{
 "cells": [
  {
   "cell_type": "code",
   "execution_count": 2,
   "metadata": {},
   "outputs": [
    {
     "data": {
      "text/html": [
       "<div>\n",
       "<style scoped>\n",
       "    .dataframe tbody tr th:only-of-type {\n",
       "        vertical-align: middle;\n",
       "    }\n",
       "\n",
       "    .dataframe tbody tr th {\n",
       "        vertical-align: top;\n",
       "    }\n",
       "\n",
       "    .dataframe thead th {\n",
       "        text-align: right;\n",
       "    }\n",
       "</style>\n",
       "<table border=\"1\" class=\"dataframe\">\n",
       "  <thead>\n",
       "    <tr style=\"text-align: right;\">\n",
       "      <th></th>\n",
       "      <th>HomeTeam</th>\n",
       "      <th>AwayTeam</th>\n",
       "      <th>FTHG</th>\n",
       "      <th>FTAG</th>\n",
       "      <th>FTR</th>\n",
       "      <th>HS</th>\n",
       "      <th>AS</th>\n",
       "      <th>HST</th>\n",
       "      <th>AST</th>\n",
       "      <th>B365H</th>\n",
       "      <th>B365D</th>\n",
       "      <th>B365A</th>\n",
       "    </tr>\n",
       "  </thead>\n",
       "  <tbody>\n",
       "    <tr>\n",
       "      <td>0</td>\n",
       "      <td>Burnley</td>\n",
       "      <td>Swansea</td>\n",
       "      <td>0</td>\n",
       "      <td>1</td>\n",
       "      <td>A</td>\n",
       "      <td>10</td>\n",
       "      <td>17</td>\n",
       "      <td>3</td>\n",
       "      <td>9</td>\n",
       "      <td>2.40</td>\n",
       "      <td>3.3</td>\n",
       "      <td>3.25</td>\n",
       "    </tr>\n",
       "    <tr>\n",
       "      <td>1</td>\n",
       "      <td>Crystal Palace</td>\n",
       "      <td>West Brom</td>\n",
       "      <td>0</td>\n",
       "      <td>1</td>\n",
       "      <td>A</td>\n",
       "      <td>14</td>\n",
       "      <td>13</td>\n",
       "      <td>4</td>\n",
       "      <td>3</td>\n",
       "      <td>2.00</td>\n",
       "      <td>3.3</td>\n",
       "      <td>4.50</td>\n",
       "    </tr>\n",
       "    <tr>\n",
       "      <td>2</td>\n",
       "      <td>Everton</td>\n",
       "      <td>Tottenham</td>\n",
       "      <td>1</td>\n",
       "      <td>1</td>\n",
       "      <td>D</td>\n",
       "      <td>12</td>\n",
       "      <td>13</td>\n",
       "      <td>6</td>\n",
       "      <td>4</td>\n",
       "      <td>3.20</td>\n",
       "      <td>3.4</td>\n",
       "      <td>2.40</td>\n",
       "    </tr>\n",
       "    <tr>\n",
       "      <td>3</td>\n",
       "      <td>Hull</td>\n",
       "      <td>Leicester</td>\n",
       "      <td>2</td>\n",
       "      <td>1</td>\n",
       "      <td>H</td>\n",
       "      <td>14</td>\n",
       "      <td>18</td>\n",
       "      <td>5</td>\n",
       "      <td>5</td>\n",
       "      <td>4.50</td>\n",
       "      <td>3.6</td>\n",
       "      <td>1.91</td>\n",
       "    </tr>\n",
       "    <tr>\n",
       "      <td>4</td>\n",
       "      <td>Man City</td>\n",
       "      <td>Sunderland</td>\n",
       "      <td>2</td>\n",
       "      <td>1</td>\n",
       "      <td>H</td>\n",
       "      <td>16</td>\n",
       "      <td>7</td>\n",
       "      <td>4</td>\n",
       "      <td>3</td>\n",
       "      <td>1.25</td>\n",
       "      <td>6.5</td>\n",
       "      <td>15.00</td>\n",
       "    </tr>\n",
       "  </tbody>\n",
       "</table>\n",
       "</div>"
      ],
      "text/plain": [
       "         HomeTeam    AwayTeam  FTHG  FTAG FTR  HS  AS  HST  AST  B365H  B365D  \\\n",
       "0         Burnley     Swansea     0     1   A  10  17    3    9   2.40    3.3   \n",
       "1  Crystal Palace   West Brom     0     1   A  14  13    4    3   2.00    3.3   \n",
       "2         Everton   Tottenham     1     1   D  12  13    6    4   3.20    3.4   \n",
       "3            Hull   Leicester     2     1   H  14  18    5    5   4.50    3.6   \n",
       "4        Man City  Sunderland     2     1   H  16   7    4    3   1.25    6.5   \n",
       "\n",
       "   B365A  \n",
       "0   3.25  \n",
       "1   4.50  \n",
       "2   2.40  \n",
       "3   1.91  \n",
       "4  15.00  "
      ]
     },
     "execution_count": 2,
     "metadata": {},
     "output_type": "execute_result"
    }
   ],
   "source": [
    "import pandas as pd\n",
    "import numpy as np\n",
    "\n",
    "df1=pd.read_csv('C:/Users/Thoma/OneDrive/Desktop/EnglishDatasets/2016-17.csv',usecols=['HomeTeam','AwayTeam','FTHG','FTAG',\n",
    "'FTR','HS','AS','HST','AST','B365H','B365D','B365A'])\n",
    "df1.head()\n",
    "\n"
   ]
  },
  {
   "cell_type": "code",
   "execution_count": 4,
   "metadata": {},
   "outputs": [
    {
     "data": {
      "image/png": "[encoded data removed]",
      "text/plain": [
       "<Figure size 432x576 with 1 Axes>"
      ]
     },
     "metadata": {},
     "output_type": "display_data"
    }
   ],
   "source": [
    "import matplotlib.pyplot as plt\n",
    "plt.figure(figsize=(6,8))\n",
    "plt.pie(df1['FTR'].value_counts(),labels=['Home','Away','Draw'], autopct='%1.1f%%',shadow=True, startangle=0)\n",
    "plt.axis('equal')\n",
    "plt.title('Win Percentage', size=14)\n",
    "plt.show()"
   ]
  },
  {
   "cell_type": "code",
   "execution_count": 11,
   "metadata": {},
   "outputs": [
    {
     "name": "stdout",
     "output_type": "stream",
     "text": [
      "The chance of home team to win with %95 confidence interval falls in :(0.441839514668131, 0.5423710116476584)\n"
     ]
    }
   ],
   "source": [
    "from statsmodels.stats import proportion\n",
    "conf=proportion.proportion_confint((df1['FTR']=='H').sum(), df1['FTR'].count(), alpha=0.05, method='normal')\n",
    "print('The chance of home team to win with %95 confidence interval falls in :{}'.format(conf))"
   ]
  },
  {
   "cell_type": "code",
   "execution_count": 12,
   "metadata": {},
   "outputs": [],
   "source": [
    "\n",
    "dfSq=pd.read_csv('C:/Users/Thoma/OneDrive/Desktop/EnglishDatasets/2016-17S.csv',index_col='Team').dropna(axis=0,how='any')\n",
    "\n",
    "dfSq.head()\n",
    "dff=df1.join(dfSq[['Hde','Hatt','Hpo','Htot']],on='HomeTeam')\n",
    "df=dff.join(dfSq[['Ade','Aatt','Apo','Atot']],on='AwayTeam')"
   ]
  },
  {
   "cell_type": "code",
   "execution_count": 73,
   "metadata": {},
   "outputs": [],
   "source": [
    "def make_data(df):\n",
    "    ##add points for away and home team : win 3 points, draw 1 point, loss 0 point\n",
    "    df['HP']=np.select([df['FTR']=='H',df['FTR']=='D',df['FTR']=='A'],[3,1,0])\n",
    "    df['AP']=np.select([df['FTR']=='H',df['FTR']=='D',df['FTR']=='A'],[0,1,3])\n",
    "    ## add difference in goals for home and away team\n",
    "    df['HDG']=df['FTHG']-df['FTAG']\n",
    "    df['ADG']=-df['FTHG']+df['FTAG']\n",
    "    ##add momentum to data \n",
    "    cols=['Team','Points','Goal','Shoot','TargetShoot','DiffG']\n",
    "    df1=df[['HomeTeam','AwayTeam','HP','AP','FTHG','FTAG','HS','AS','HST','AST','HDG','ADG']]\n",
    "    df1.columns=[np.repeat(cols,2),['Home','Away']*len(cols)]\n",
    "    d1=df1.stack()\n",
    "    ##find momentum of previous five games for each team\n",
    "    mom5 = d1.groupby('Team').apply(lambda x: x.shift().rolling(5, 4).mean())\n",
    "    mom=d1.groupby('Team').apply(lambda x: x.shift().expanding(0).mean())\n",
    "    ##add the found momentum to the dataframe\n",
    "    df2=d1.assign(MP=mom5['Points'],MG=mom5['Goal'],MS=mom5['Shoot'],MST=mom5['TargetShoot'],MDG=mom5['DiffG'],AP=mom['Points'],AG=mom['Goal'],AS=mom['Shoot'],AST=mom['TargetShoot'],ADG=mom['DiffG']).unstack()\n",
    "    df2=df2.drop(['Points','Goal','Shoot','TargetShoot','DiffG'],axis=1)\n",
    "    df_final=pd.merge(df[['HomeTeam','AwayTeam','FTR','B365H','B365D','B365A','Ade','Aatt','Apo','Atot','Hde','Hatt','Hpo','Htot']],df2,left_on=['HomeTeam','AwayTeam'],right_on=[df2['Team']['Home'],df2['Team']['Away']])\n",
    "    df_final=df_final.dropna(axis=0,how='any')\n",
    "    ##Full time results ('FTR') : Home=0,Draw=1,Away=2\n",
    "    Y_all=df_final['FTR']\n",
    "    ##Full time results ('FTR') : Home=0,Draw=1,Away=2\n",
    "    ##Prediction of betting company (bet365)=Y_Bet\n",
    "    Y_Bet=df_final[['B365H','B365D','B365A']].apply(lambda x:1/x)\n",
    "    \n",
    "    Y_Bet_FTR=np.select([Y_Bet.idxmax(axis=1)=='B365H',Y_Bet.idxmax(axis=1)=='B365D',Y_Bet.idxmax(axis=1)=='B365A'],['H','D'\n",
    "    ,'A'])\n",
    " \n",
    "    df_X=df_final.drop([('Team', 'Home'),('Team', 'Away'),'FTR','HomeTeam','AwayTeam','B365H','B365D','B365A'],axis=1)\n",
    "    return df_X, Y_all,Y_Bet,Y_Bet_FTR\n",
    "df_X, Y_all,Y_Bet,Y_Bet_FTR=make_data(df)"
   ]
  },
  {
   "cell_type": "code",
   "execution_count": 74,
   "metadata": {},
   "outputs": [],
   "source": [
    "from sklearn.preprocessing import scale\n",
    "X_all=scale(df_X)"
   ]
  },
  {
   "cell_type": "code",
   "execution_count": 76,
   "metadata": {},
   "outputs": [],
   "source": [
    "from sklearn.model_selection import train_test_split\n",
    "from sklearn.model_selection import GridSearchCV\n",
    "from sklearn import linear_model\n",
    "from sklearn.svm import SVC\n",
    "from sklearn.metrics import classification_report\n",
    "def data_split(X_all, Y_all,Y_Bet_FTR,Y_Bet):\n",
    "    X_train, X_test, y_train, y_test,y_train_bet_FTR,y_test_bet_FTR,y_train_bet,y_test_bet = train_test_split(X_all, Y_all,\n",
    "    Y_Bet_FTR,Y_Bet, test_size=0.3, random_state=42) \n",
    "    return X_train, X_test, y_train, y_test,y_train_bet_FTR,y_test_bet_FTR,y_train_bet,y_test_bet  \n",
    "def predict_labels(clf,X_test):\n",
    "    y_pred=clf.predict(X_test)\n",
    "    return y_pred   \n",
    "def report_score(clf,X_test,y_test,y_pred,X_train,y_train):\n",
    "    target_names = ['H', 'D', 'A']\n",
    "    print(classification_report(y_test, y_pred, target_names=target_names))\n",
    "    print ('{}....Test accuracy:{} Train accuracy:{}'.format(clf.__class__.__name__,clf.score(X_test,y_test),\n",
    "    clf.score(X_train,y_train)))\n",
    "def report_score_bet365(y_test,y_pred):\n",
    "    target_names = ['H', 'D', 'A']\n",
    "    print(classification_report(y_test, y_pred, target_names=target_names))\n",
    "    print ('BET365 accuracy:{} '.format((y_test==y_pred).sum()/len(y_test)))\n",
    "def train_classifier(clf,parameters,X_train,y_train):\n",
    "    grid_class = GridSearchCV(clf,scoring='accuracy',param_grid=parameters)\n",
    "    grid_class = grid_class.fit(X_train,y_train)\n",
    "    clf = grid_class.best_estimator_\n",
    "    return clf\n",
    "clf_logistic= linear_model.LogisticRegression(multi_class = \"ovr\", solver = 'newton-cg', class_weight = 'balanced')\n",
    "clf_svc = SVC(kernel=\"linear\",probability=True)\n",
    "clfs=[clf_logistic,clf_svc]\n",
    "X_train, X_test, y_train, y_test,y_train_bet_FTR,y_test_bet_FTR,y_train_bet,y_test_bet=data_split(X_all, Y_all,Y_Bet_FTR,Y_Bet)\n",
    "parameter_logistic = {'C': np.logspace(-5,5,100)}\n",
    "parameter_SVC = {'C': np.arange(0.1,3,0.01)}\n",
    "parameters={clfs[0]:parameter_logistic,clfs[1]:parameter_SVC}"
   ]
  },
  {
   "cell_type": "code",
   "execution_count": 77,
   "metadata": {},
   "outputs": [
    {
     "name": "stderr",
     "output_type": "stream",
     "text": [
      "C:\\ProgramData\\Anaconda3\\lib\\site-packages\\sklearn\\model_selection\\_split.py:1978: FutureWarning: The default value of cv will change from 3 to 5 in version 0.22. Specify it explicitly to silence this warning.\n",
      "  warnings.warn(CV_WARNING, FutureWarning)\n",
      "C:\\ProgramData\\Anaconda3\\lib\\site-packages\\sklearn\\model_selection\\_search.py:814: DeprecationWarning: The default of the `iid` parameter will change from True to False in version 0.22 and will be removed in 0.24. This will change numeric results when test-set sizes are unequal.\n",
      "  DeprecationWarning)\n",
      "C:\\ProgramData\\Anaconda3\\lib\\site-packages\\sklearn\\model_selection\\_split.py:1978: FutureWarning: The default value of cv will change from 3 to 5 in version 0.22. Specify it explicitly to silence this warning.\n",
      "  warnings.warn(CV_WARNING, FutureWarning)\n"
     ]
    },
    {
     "name": "stdout",
     "output_type": "stream",
     "text": [
      "              precision    recall  f1-score   support\n",
      "\n",
      "           H       0.49      0.71      0.58        28\n",
      "           D       0.25      0.15      0.19        20\n",
      "           A       0.71      0.65      0.68        54\n",
      "\n",
      "    accuracy                           0.57       102\n",
      "   macro avg       0.48      0.50      0.48       102\n",
      "weighted avg       0.56      0.57      0.56       102\n",
      "\n",
      "LogisticRegression....Test accuracy:0.5686274509803921 Train accuracy:0.6428571428571429\n",
      "              precision    recall  f1-score   support\n",
      "\n",
      "           H       0.59      0.61      0.60        28\n",
      "           D       0.50      0.15      0.23        20\n",
      "           A       0.64      0.80      0.71        54\n",
      "\n",
      "    accuracy                           0.62       102\n",
      "   macro avg       0.58      0.52      0.51       102\n",
      "weighted avg       0.60      0.62      0.59       102\n",
      "\n",
      "SVC....Test accuracy:0.6176470588235294 Train accuracy:0.6764705882352942\n"
     ]
    },
    {
     "name": "stderr",
     "output_type": "stream",
     "text": [
      "C:\\ProgramData\\Anaconda3\\lib\\site-packages\\sklearn\\model_selection\\_search.py:814: DeprecationWarning: The default of the `iid` parameter will change from True to False in version 0.22 and will be removed in 0.24. This will change numeric results when test-set sizes are unequal.\n",
      "  DeprecationWarning)\n"
     ]
    }
   ],
   "source": [
    "for clf in clfs:\n",
    "    clf=train_classifier(clf,parameters[clf],X_train,y_train)\n",
    "    y_pred=predict_labels(clf,X_test)\n",
    "    report_score(clf,X_test,y_test,y_pred,X_train,y_train)\n"
   ]
  },
  {
   "cell_type": "code",
   "execution_count": 79,
   "metadata": {},
   "outputs": [
    {
     "name": "stderr",
     "output_type": "stream",
     "text": [
      "C:\\ProgramData\\Anaconda3\\lib\\site-packages\\sklearn\\model_selection\\_split.py:1978: FutureWarning: The default value of cv will change from 3 to 5 in version 0.22. Specify it explicitly to silence this warning.\n",
      "  warnings.warn(CV_WARNING, FutureWarning)\n",
      "C:\\ProgramData\\Anaconda3\\lib\\site-packages\\sklearn\\model_selection\\_search.py:814: DeprecationWarning: The default of the `iid` parameter will change from True to False in version 0.22 and will be removed in 0.24. This will change numeric results when test-set sizes are unequal.\n",
      "  DeprecationWarning)\n",
      "C:\\ProgramData\\Anaconda3\\lib\\site-packages\\sklearn\\model_selection\\_split.py:1978: FutureWarning: The default value of cv will change from 3 to 5 in version 0.22. Specify it explicitly to silence this warning.\n",
      "  warnings.warn(CV_WARNING, FutureWarning)\n"
     ]
    },
    {
     "name": "stdout",
     "output_type": "stream",
     "text": [
      "              precision    recall  f1-score   support\n",
      "\n",
      "           H       0.60      0.75      0.67        28\n",
      "           D       0.00      0.00      0.00        20\n",
      "           A       0.67      0.83      0.74        54\n",
      "\n",
      "    accuracy                           0.65       102\n",
      "   macro avg       0.42      0.53      0.47       102\n",
      "weighted avg       0.52      0.65      0.58       102\n",
      "\n",
      "BET365 accuracy:0.6470588235294118 \n"
     ]
    },
    {
     "name": "stderr",
     "output_type": "stream",
     "text": [
      "C:\\ProgramData\\Anaconda3\\lib\\site-packages\\sklearn\\model_selection\\_search.py:814: DeprecationWarning: The default of the `iid` parameter will change from True to False in version 0.22 and will be removed in 0.24. This will change numeric results when test-set sizes are unequal.\n",
      "  DeprecationWarning)\n",
      "C:\\ProgramData\\Anaconda3\\lib\\site-packages\\sklearn\\metrics\\classification.py:1437: UndefinedMetricWarning: Precision and F-score are ill-defined and being set to 0.0 in labels with no predicted samples.\n",
      "  'precision', 'predicted', average, warn_for)\n"
     ]
    }
   ],
   "source": [
    "for clf in clfs:\n",
    "    clf=train_classifier(clf,parameters[clf],X_train,y_train)\n",
    "    y_pred=predict_labels(clf,X_test)\n",
    "report_score_bet365(y_test,y_test_bet_FTR)"
   ]
  },
  {
   "cell_type": "code",
   "execution_count": null,
   "metadata": {},
   "outputs": [],
   "source": []
  }
 ],
 "metadata": {
  "kernelspec": {
   "display_name": "Python 3",
   "language": "python",
   "name": "python3"
  },
  "language_info": {
   "codemirror_mode": {
    "name": "ipython",
    "version": 3
   },
   "file_extension": ".py",
   "mimetype": "text/x-python",
   "name": "python",
   "nbconvert_exporter": "python",
   "pygments_lexer": "ipython3",
   "version": "3.7.4"
  }
 },
 "nbformat": 4,
 "nbformat_minor": 2
}
